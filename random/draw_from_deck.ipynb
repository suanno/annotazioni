{
 "cells": [
  {
   "cell_type": "markdown",
   "metadata": {},
   "source": [
    "# Drawing cards in unconventional ways"
   ]
  },
  {
   "cell_type": "markdown",
   "metadata": {},
   "source": [
    "Consider a deck of $N$ cards and define the **state of the deck** as\n",
    "$$\\text{The sequence of cardsin order from the top to the bottom}$$\n",
    "e.g.: \"King of hearts, Two of squares, ...\"\n",
    "\n",
    "So the space of all possible states is the one of all the permutations of $N$ _different symbols_.\n",
    "\n",
    "#### Shuffling\n",
    "If you shuffle the deck, its final state is one of all the possible permutations with equal probability.\n",
    "Formally we say that the state $x$, after the shuffle, is a random variable uniformly distributed.\n",
    "\n",
    "#### What happens if we draw the cards from the deck in an unconventional order?\n",
    "If I draw the cards without following the order \"from top to bottom\", this is the same as making a proper change to the state of the system (change the position of the proper cards) and then draw \"from top to bottom\".\n",
    "\n",
    "After changing the state of the system, it is still a random variable, because the new state is a function of the past state, that is a random variable. But this random variable $y = f(x)$ is not necessarly uniformly distributed!\n",
    "\n",
    "If we call the function that changes the state of the deck $f$, the probability of finding the system in a state y, **after shuffling AND THEN changing the state according to f**, is\n",
    "$$P_{\\text{new}}(y) = \\sum_i P_{\\text{old}}(f_i^{-1}(y))$$\n",
    "where the sum **runs over the preimages** of $y$ respect to $x$, that can be multiple as $f$ is not necessary injective!\n",
    "\n",
    "\n",
    "\n",
    "If $f$ is bijective, then each state $y$ has at least a preimage and its unique! So \n",
    "$$P_{\\text{new}}(y) = P_{\\text{old}}(f^{-1}(y))$$\n",
    "and, as in the shuffled deck all permutations have the same probability $P_{old}(x) = P \\quad \\forall x$, the final state $y$ is uniformly distributed, even after applying the function $f$ to the state of the system after the shuffle!\n",
    "\n",
    "#### In practice\n",
    "Let's define an _unconventional way of drawing_ with the sequence of the position of extracted cards $\\{n_1,n_2,...,n_N\\}$.\n",
    "\n",
    "The above sequence (that is a sequence of $N$ _different_ symbols) means: \"I enumerate the cards in the deck from top to bottom. The top card is 1-st, the first below is 2-nd, ..., the bottom card is the N-th. Then I extract the one with index n_1, then the one with index n_2, ...\".\n",
    "\n",
    "Drawing cards according to the sequence $\\{n_1,n_2,...,n_n\\}$ is the same as:\n",
    "- Apply to the state of the shuffled deck the function $f(x)$ defined as:\n",
    "$$f(c_{\\mathbf{1}},c_2,c_3,...,c_N) = c_{\\mathbf{n_1}}c_{n_2}...c_{n_N}$$\n",
    "\n",
    "- Draw from the deck from the top card to the bottom one.\n",
    "\n",
    "The function $f$ defined above is clearly injective. \n",
    "\n",
    "_Note that_: If the function $f$ is injective, considering that $f$ is defined from the space of all permutation of $N$ symbols **to itself**, it is also _bijective_.\n",
    "\n",
    "As the function is bijective, then the new state of the deck is a random variable _uniformly_ distributed.\n",
    "\n",
    "#### Very unconventional way of drawing\n",
    "We see that, if we draw from the deck with a method described by an injective function, then the state of the system is still uniformly distributed.\n",
    "\n",
    "Now consider drawing from the deck with this _strange technique_:\n",
    "- You draw the top card.\n",
    "- If the card is $c_k$, the next card you draw is the $c_k$-th from the top (in the enumeration of cards is included the removed card).\n",
    "- And you continue until you draw all $N$ cards.\n",
    "\n",
    "This method of drawing corresponds to a bijective function. That's because you can run this method _backwards_!\n",
    "\n",
    "So, if you shuffle the deck and then draw the cards in the unconventional technique described above, all the possible _outcome sequences_ are equiprobable. As when you draw the cards in the conventional way.\n",
    "\n"
   ]
  },
  {
   "cell_type": "markdown",
   "metadata": {},
   "source": []
  }
 ],
 "metadata": {
  "language_info": {
   "name": "python"
  }
 },
 "nbformat": 4,
 "nbformat_minor": 2
}

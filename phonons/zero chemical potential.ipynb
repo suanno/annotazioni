{
 "cells": [
  {
   "cell_type": "markdown",
   "metadata": {},
   "source": [
    "# Why $\\mu = 0$ in a gas of phoTons (or phoNons)?"
   ]
  },
  {
   "cell_type": "markdown",
   "metadata": {},
   "source": [
    "### Differences between a _canonical_ and _gran-canonical_ system\n",
    "A canonical system (a system whose states occur with the canonical probability $P_i = e^{-\\beta\\epsilon_i}$) is a system that can exchange energy with a _resevoir_ but not particles.\n",
    "\n",
    "If the system can exchange particles too, then the pobability of one of its states is $P_i = e^{-\\beta(\\epsilon_i - \\mu)n_k}$. We say that this is a gran-canonical system and not a canonical one.\n",
    "\n",
    "So, depending on how the system interacts w/ the enviroment (on how much it is isolated) its states occur with different probabilities.\n",
    "By the way we can study a system that cannot exchange particles with the enviroment as a system who can and, _after finding the laws_ of the system, require that the system does not change any particles with the enviroment.\n",
    "\n",
    "### Why we find $f_{fd}$ and $f_{be}$ in a **gran**-canonical system?\n",
    "If we consider a _quantum system_ of $N$ _non interacting_ particles (fermions or bosons) that cannot exchange particles with the enviroment, then the system is canonical and we can study it through the _canonical partition function_\n",
    "$$Z = \\sum_{\\{n_k\\}|_{\\sum n_k = N}}e^{-\\beta H(\\{n_k\\})}$$\n",
    "the sum is over the states of the system, that are all the _sequences of occupation_ of the single _particle states_ $\\{n_k\\}$ **such that** $\\sum_k n_k = N$.\n",
    "While, as the particles do not interact, $H(\\{n_k\\}) = \\sum_k n_k\\epsilon_k$.\n",
    "\n",
    "In principle, we can study the system from $Z$, but that expression is _unmanageble_ due to the restriction on the sequences $\\{n_k\\}$. The fact is that, from that expression, _no one can_ go far **without considering specific systems** (and we'll do that in a while!).\n",
    "So, the way you obtain the quantum distributions $f_{fd}$ and $f_{be}$ is different.\n",
    "\n",
    "To find the quantum distributions, you need to consider the possibility of exchanging particles with the enviroment, so you deal with a gran-canonical system.\n",
    "Remember that this doesn't mean that the system _has to_ exchange particle. In fact you can always, after finding the laws of the gran-canonical system, require that the system does not exchange particles with the enviroment!\n",
    "\n",
    "- This is easy to do in a gas of electrons where, the fact that the system does not change particles implies that the statistical average of number of particles is $<N> = N$ and N _does not fluctuate at all_ around $<N>$. So you can simply put the fluctuation of $N$ to zero in any formula.\n",
    "- This is not obvious in a gas of photons or phonons, because the number of particles changes in time even if the system cannot exchange particles with the enviroment. But the aim of this paper is to deal with those particles, so we will discuss this in a while.\n",
    "\n",
    "So you find the quantum distribution thinking to a system that can exchange particles with the enviroment, so you extract them from the _gran-canonical_ partition function \n",
    "$$Z_{G.C.} = \\sum_{\\{n_k\\}}e^{-\\beta \\sum_k n_k(\\epsilon_k -\\mu)}$$\n",
    "now there is no more a constrain on the sum over the occupation sequences. This makes the partition function _manageble_ and let you find\n",
    "$$f_{be}(\\epsilon) = \\frac{1}{e^{\\beta(\\epsilon-\\mu)} - 1}$$ \n",
    "\n",
    "I Remember that, even if you find this expression in a system that can exchange particles with the enviroment, it holds even if you remove (after all the calculations) this possibility.\n",
    "\n",
    "Note the presence of $\\mu$, that is a quantity related to the addition of a particle from the enviroment, but is present in an expression that is valid for a system that doesn't exchange particles with the enviroment. I think this enhances the fact you cannot find the quantum distribution working with a canonical system (unless you **consider a specific system**).\n",
    "\n",
    "### Gas of photons in a canonical system\n",
    "We remarked twice that you cannot find the quantum distributions working with a **generic** canonical system. But the gas of photons is a **special case**.\n",
    "\n",
    "In a gas of phonons, the hamiltonian is a sum of independent harmonic oscillators, so the hamiltonian is\n",
    "$$H = \\sum_k (n_k )\\hbar\\omega_k$$\n",
    "and the states of the system are **all** the sequences $\\{n_k\\}$ without any constrain!\n",
    "As a consequence the partition function is\n",
    "$$Z = \\sum_{\\{n_k\\}}\\prod_k e^{-\\beta (n_k )\\hbar\\omega_k}$$\n",
    "as the sum over the sequences is not constrain, this expression is _manageble_.\n",
    "\n",
    "Expliciting the sum as $\\sum_{n_{k_1}}\\sum_{n_{k_2}}...$ and the product as $e^{-\\beta (n_{k_1} )\\hbar\\omega_{k_1}}e^{-\\beta (n_{k_2} )\\hbar\\omega_{k_2}}...$ we can re-arrange the terms such that\n",
    "$$Z = \\sum_{n_{k_1}}e^{-\\beta (n_{k_1} )\\hbar\\omega_{k_1}}\\sum_{n_{k_2}}e^{-\\beta (n_{k_2} )\\hbar\\omega_{k_2}}...$$\n",
    "and using the fact that the exponential is always less than 1, we find that\n",
    "$$\\sum_{n_{k_i}}^\\infty e^{-\\beta (n_{k_i} )\\hbar\\omega_{k_i}} = \\frac{1}{1 - e^{-\\beta \\hbar\\omega_{k_i}}}$$\n",
    "and so\n",
    "$$Z = \\prod_k \\frac{1}{1 - e^{-\\beta \\hbar\\omega_{k}}}$$\n",
    "\n",
    "The (statistical) average energy in a canonical system is $<E> = -\\frac{d(\\log Z)}{d\\beta}$ and we can compute the logarithm of $Z$ as\n",
    "$$\\log Z = - \\sum_{k} \\log(1 - e^{-\\beta \\hbar\\omega_{k}})$$\n",
    "\n",
    "As a consequence \n",
    "$$<E> = \\sum_k \\frac{e^{-\\beta\\hbar\\omega_k}}{1 - e^{-\\beta\\hbar\\omega_k}}\\hbar\\omega_k = \\sum_k \\frac{1}{e^{+\\beta\\hbar\\omega_k} - 1}\\hbar\\omega_k$$\n",
    "so we recognize $$<n_k> = \\frac{1}{e^{+\\beta\\hbar\\omega_k} - 1}$$\n",
    "that is the _bose-einstein_ distribution with $\\mu = 0$.\n",
    "\n",
    "ALL the past considerations hold even for phonons, because they have an hamiltonian of the same kind."
   ]
  }
 ],
 "metadata": {
  "language_info": {
   "name": "python"
  }
 },
 "nbformat": 4,
 "nbformat_minor": 2
}

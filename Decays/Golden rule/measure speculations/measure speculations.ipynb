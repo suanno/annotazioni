{
 "cells": [
  {
   "cell_type": "markdown",
   "metadata": {},
   "source": [
    "**Note**:\n",
    "- The second speculation is my favourite\n",
    "- What happens, in a Phase qubit, when the system is in one of the two eigenstates $\\ket{0}$ or $\\ket{1}$ and you illuminate the sample, I think does not need any considerations about collapse of the wave function in a measurement.\n",
    "\n",
    "BUT you need to consider what happens to superpositions, because _practically_ the system will never be in an eigenstate, because even if I want that **at the end of the algorithm** it should be in one of the two eigenstates, it will be in a superposition very close (but not equal) to an eigenstate.\n",
    "\n",
    "- Illuminating with photons, that can excite the sistem from an eigenstate to another (and then, for phase tunneling, you measure a voltage drop), makes me think that the Operator you are measuring is the energy of the system, so the Hamiltonian. Even if there is an interaction term, we consider (its an approximation that some day must be taken into account with the others) that the wave function collapses to _unperturbed_ eigenstates."
   ]
  },
  {
   "cell_type": "markdown",
   "metadata": {},
   "source": [
    "# My speculations about measure, considering the Golden rule\n",
    "The content of this file is **speculative** and its about _measurement_. So what I show is how **I believe** that physics could work.\n",
    "\n",
    "Let's consider for simplicity a _Phase Qubit_. In this system, if the system is in the 2nd exited state, it tunnels almost certainly and you measure (macroscopically) a voltage drop.\n",
    "\n",
    "Experimentally, you see that if you illuminate the sample with light of frequency $\\omega_{02}$ or $\\omega_{12}$ (so with the energy needed to make a transition to the 2nd excited state _from one of the eigenstates_ $\\ket{0}, \\ket{1}$), you measure a voltage drop.\n",
    "So _I believe_ that the measurement _procedure_ works like this (Consider that, _in general_, the wave function is a **superposition** of of the eigenstates $\\ket{0}, \\ket{1}$):\n"
   ]
  },
  {
   "cell_type": "markdown",
   "metadata": {},
   "source": [
    "\n",
    "### First speculation\n",
    "- The precence of the stream of photons evolves the coefficients $c_n(t)$ of the system's state, according to the Golden Rule(*).\n",
    "- The stream of photons continues to collapse the wave function (on the eigenstates) with a certain frequency $\\tilde{\\omega}$. So the _first time_ the state collapses after an average time $\\frac{2\\pi}{\\tilde{\\omega}}$.\n",
    "- There is a (small) probability that the wave function collapses into the state $\\ket{2}$, and so that you measure a voltage drop. You calculate it with the Golden rule.\n",
    "\n",
    "(*)In order to use the Golden rule, you need that the _frequency of collapse_ $\\tilde{\\omega}$ must be very high, in order that you can say that $\\frac{2\\pi}{\\tilde{\\omega}}$ is a **small time** and so you can approximate the Dyson expansion at order 1 (and so obtain the Golden rule).\n",
    "\n",
    "##### Problems\n",
    "- You **loose any information** about the initial state after an average time $\\frac{2\\pi}{\\tilde{\\omega}}$, and then there is no mean for the experiment to go on.\n",
    "\n",
    "From a single experiment you won't figure out any property of the initial state.\n",
    "You need to prepare the system in the initial state _a lot of time_ and check if there is any voltage drop. From the statistics coming from this huge set of experiments, you can figure out what was the initial state.\n",
    "\n",
    "But you desire to get at least information about being in $\\ket{0} $ or $ \\ket{1}$ from a single experiment."
   ]
  },
  {
   "cell_type": "markdown",
   "metadata": {},
   "source": [
    "### Second speculation\n",
    "- The precence of the stream of photons evolves the coefficients $c_n(t)$ of the system's state, according to the Golden Rule.\n",
    "- The stream of photons continues **to try to collapse** the wave function on $\\ket{0}$ or $\\ket{1}$ **and then immediately** make the system absorb a photon to make a transition to $\\ket{2}$.\n",
    "So the system **can collapse only on** $\\ket{0}$ if the photons have frequency $\\omega_{02}$, or only on $\\ket{1}$ if they have frequency $\\omega_{12}$.\n",
    "- The **trials of collapse** happen with a **frequency** (not of collapses, **but** trials of) $\\tilde{\\omega}$ and, at each trial, the probability of collapse are $|c_0(t)|^2$ and $|c_1(t)|^2$, that you calculate with the Golden rule(*).\n",
    "\n",
    "(*)In order to use the Golden rule, you need that the _frequency of collapse_ $\\tilde{\\omega}$ must be very high (this time even more), in order that you can collapse in a time that you can tell **small** and so you can approximate the Dyson expansion at order 1 (and so obtain the Golden rule).\n",
    "\n",
    "In this speculation\n",
    "- If the initial state is the eigenstate $\\ket{0}$ or $\\ket{1}$, then the system won't **never** absorb photons _of the different kind_. So you can measure the state simply by trying if you see a voltage drop with one frequency and, if it is not so, you switch frequency and you will see it.\n",
    "If the initial state is an eigenstate, I think there's no need of talking of wave function collapse on an eigenstate.\n",
    "\n",
    "- If the initial state is a _linear combination_ of $\\ket{0}$ and $\\ket{1}$, then in the low times approximation you have that\n",
    "$$|c_i(t)|^2 = |c_i(0)|^2 + o(t)\\quad\\text{for i = 0, 1}$$\n",
    "\n",
    "so, if the state **is very close to $\\ket{1}$**, then there is a very small (but non-zero) probability that, illuminating the sample with the phonons' frequency $\\omega_{02}$ you see a voltage drop.\n",
    "But this probability is very low, respecting to the one of measuring a voltage drop with photons' frequency $\\omega_{02}$.\n",
    "\n",
    "You can _take advantage_ of this fact by **switching sufficiently fast** between the two photons' frequencies.\n",
    "This switch must be very frequent, because the probability of measuring a voltage drop, when illuminating the sample with the **wrong** photons' frequency $\\omega_{02}$ for a time t is:\n",
    "$$t\\frac{\\tilde{\\omega}}{2\\pi}|c_0(0)|^2$$\n",
    "because the idea is that, at each period of the _collapse trials_ you flip a coin with success' probability |c_0(0)|^2, and the experiment holds a time $t$ (that must be small, in order for the Golden rule to hold).\n",
    "\n",
    "##### Advantages\n",
    "- You can tell if the state is very close to $\\ket{0}$ or $\\ket{1}$.\n",
    "And appreciate that you need just this for quantum computing applications, because at the end of the experiment the qubit will be _theoretically_ only in one of the two eigenstates (even before the measurement). And then, practically, it will be in a superposition, but that is very close to one of the two eigenstates."
   ]
  }
 ],
 "metadata": {
  "language_info": {
   "name": "python"
  }
 },
 "nbformat": 4,
 "nbformat_minor": 2
}

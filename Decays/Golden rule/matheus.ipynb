{
 "cells": [
  {
   "cell_type": "markdown",
   "metadata": {},
   "source": [
    "# Matheus law\n",
    "\n",
    "Consider _two scattering mechanisms_.\n",
    "\n",
    "If you consider each one _as the unique_ scattering mechanism, you can assign it a lifetime (average scattering time, when this is the **unique** scattering mechanism) $\\tau_1, \\tau_2$:\n",
    "\n",
    "Then, if you consider the _simultaneous precence_ of both the mechanisms, the average scattering time for an incident particle is given by the Matheus law\n",
    "$$\\tau = (\\frac{1}{\\tau_1} + \\frac{1}{\\tau_2})^{-1}$$\n",
    "This law is _straightforward_ if the two scattering mechanisms are **independent**, **meaning that** the _number of scatters_ of one type is independent on the presence of the other mechanism. In fact, if it is so\n",
    "$$\\text{cont} = \\text{cont}_1 + \\text{cont}_2$$\n",
    "where _cont_ is the number of scatterings in the presence of both mechanisms, while $\\text{cont}_1$ and $\\text{cont}_2$ are the number of scatterings in the presence of only one of the mechanisms.\n",
    "In all cases the number of scatterings is referred to the same time interval $\\Delta t$, so\n",
    "$$\\tau = \\frac{\\Delta t}{\\text{cont}} \\quad \\tau_i = \\frac{\\Delta t}{\\text{cont}_i}$$\n",
    "so it follows that\n",
    "$$\\frac{1}{\\tau} = \\frac{1}{\\tau_2} + \\frac{1}{\\tau_2}$$ \n",
    "\n",
    "### When the scattering mechanisms are independent?\n",
    "- This is so, for example, if the motion of a particle _does not change after a scattering event_. In this case, you can study the interaction of the particle with each kind of target, removing all the targets of the other kind (you can say it holds a _superposition_ principle).\n",
    "\n",
    "- This is **not** so if a particle leaves the sample after a scattering event.\n",
    "\n",
    "In the notes we will **verify experimentally** the law in both the above cases.\n",
    "In the first case you can say there's no need of verifying the law experimentally, because we showed a proof above. But let's consider this former verification as _a way of testing_ the verification method."
   ]
  },
  {
   "cell_type": "markdown",
   "metadata": {},
   "source": [
    "### Experimental setup (THE EXPERIMENT SHOWS FLUCTUATIONS THAT ARE TOO HIGH SO CANNOT VERIFY)\n",
    "Consider a point-like particle moving on the x axis in the x-y plane.\n",
    "\n",
    "The plane is costellated with targets of _two different kinds_, with densities $n_1, n_2$\n",
    "- Targets of the first kind are big (large cross section)\n",
    "- the targets of the second are small (small cross section).\n",
    "\n",
    "the incident particle scatters with a target if it crosses the x coordinate of the target at a distance in the y direction _less than the cross section_.\n",
    "\n",
    "After the incident particle scatters, we consider both the cases when:\n",
    "- The particle does not scatter anymore (it's scattered out of the sample)\n",
    "- The particle continues to scatter, moving in the same direction and with the same speed.\n",
    "\n",
    "You can measure $\\tau_1$ and $\\tau_2$ appearing in the law, _simply by **shutting down** one mechanism of scattering_, by choosing a negative cross section for the other mechanism."
   ]
  },
  {
   "cell_type": "code",
   "execution_count": 153,
   "metadata": {},
   "outputs": [],
   "source": [
    "import numpy as np\n",
    "\n",
    "\n",
    "### Define setup's parameters\n",
    "X = 100  # Lenght (in units of discrete steps of the incident particle) of the sample\n",
    "Y = 200  # Height of the sample\n",
    "N = 200  # Number of incident particles simultaneously generated at the beginning of each cycle time at x = 0"
   ]
  },
  {
   "cell_type": "markdown",
   "metadata": {},
   "source": [
    "### How we perform the experiment\n",
    "We generate a _flux_ of incident particles like this:\n",
    "- At each discrete time, generate $N$ incident particles at $x = 0$ and uniformly distributed along the $y$ axis.\n",
    "- You propagate those particles until the end of the sample and you register how many scatters of each kind happened.\n",
    "- After the particles reached the end of the sample, you generate new particles at $x = 0$.\n",
    "\n",
    "_Now_ you consider that, after a scattering, the motion of the particle is not altered.\n",
    "_Then_ we'll perform the same simulation but excluding a particle from the simulation after a scattering.\n",
    "\n",
    "**Note that**: In this first case, as the motion of the particle does not get influenced by the scattering event, the interaction of an incident particle with the targets of the first kind is **independent on the precence** of scattering targets of the **other** kind. So the Matheus law is clear AND there's no need of shutting down one scattering mechanism to measure the $\\tau_1$ and $\\tau_2$ (average scattering times _as the **unique**_ scattering mechanism) that show up in the law; because you could extimate them simply by using **two separate counters** for the two scattering mechanisms.\n",
    "\n",
    "**But** we'll measure them by shutting down one of the two mechanisms, _for more clarity_.\n",
    "\n",
    "\n",
    "At the end of the experiment, we'll calculate the average scattering time, considering as the time taken for passing the sample from one side to the other: the lenght of the sample."
   ]
  },
  {
   "cell_type": "code",
   "execution_count": 150,
   "metadata": {},
   "outputs": [],
   "source": [
    "def simul_no_influence(n1, c1, n2, c2):\n",
    "    ####    Simulates the motion of N particles inciding on a X*Y sample\n",
    "    ####    with scattering targets placed in positions x_ti, y_ti and cross section c_i and density n_i\n",
    "    ####    [HERE The motion IS NOT INFLUENCED by the scattering event!!!]\n",
    "    ####    Returns measured scattering time tau\n",
    "\n",
    "    # Number of scattering targets of each type\n",
    "    N1 = int(n1*X*Y)\n",
    "    N2 = int(n2*X*Y)\n",
    "    # Locate scattering targets\n",
    "    x_t1 = np.random.randint(0,X,N1)\n",
    "    y_t1 = np.random.randint(N1)*Y\n",
    "    x_t2 = np.random.randint(0,X,N2)\n",
    "    y_t2 = np.random.rand(N2)*Y\n",
    "\n",
    "    # Locate initial particles uniformly distributed at x = 0\n",
    "    x = 0   # Particles move all togheter\n",
    "    y = np.random.rand(N)*Y\n",
    "\n",
    "    # Scattering counter\n",
    "    cont = 0\n",
    "    # Move particles along x direction at costant, and same, speed\n",
    "    while x < X:\n",
    "        x = x + 1\n",
    "        ## Check for scattering\n",
    "        for i in range(0, N):\n",
    "            for j in range(0,N1):\n",
    "                if np.abs(y[i] - y_t1[j]) < c1/2 and x == x_t1[j]:\n",
    "                    cont = cont + 1\n",
    "            for j in range(0,N2):\n",
    "                if np.abs(y[i] - y_t2[j]) < c2/2 and x == x_t2[j]:\n",
    "                    cont = cont + 1\n",
    "\n",
    "    ## MEASURED average scattering times (per particle)\n",
    "    tau = (X/(cont))/N\n",
    "    return tau"
   ]
  },
  {
   "cell_type": "code",
   "execution_count": 154,
   "metadata": {},
   "outputs": [
    {
     "name": "stdout",
     "output_type": "stream",
     "text": [
      "tau_1:  4.2186972662841714e-05\n",
      "tau_2:  0.00012693577050012692\n",
      "Measured tau (with order 1,2):  3.1812686899535535e-05\n",
      "Measured tau (with order 2,1):  3.1861339450710506e-05\n",
      "Matheus law:  3.166360585143436e-05\n"
     ]
    }
   ],
   "source": [
    "### Measure \\tau_1, \\tau_2 (appearing in the law) by shutting down one scattering mechanism at a time\n",
    "\n",
    "# Targets' densities\n",
    "n1 = 0.2\n",
    "n2 = 0.2\n",
    "\n",
    "## \\tau_1\n",
    "c1 = 1.1\n",
    "c2 = - 0.5  # Negative = Shutted down !!!\n",
    "tau_1 = simul_no_influence(n1, c1, n2, c2)\n",
    "print(\"tau_1: \", tau_1)\n",
    "## \\tau_2\n",
    "c1 = - 1.1  # Negative = Shutted down !!!\n",
    "c2 = 0.5\n",
    "tau_2 = simul_no_influence(n1, c1, n2, c2)\n",
    "print(\"tau_2: \", tau_2)\n",
    "\n",
    "### Measure tau in presence of both scattering mechanisms\n",
    "c1 = 1.1\n",
    "c2 = 0.5\n",
    "# Note: the measured tau MUST be independent on the order with which the two scattering mechanisms appear in the code!\n",
    "tau = simul_no_influence(n1, c1, n2, c2)\n",
    "print(\"Measured tau (with order 1,2): \", tau)\n",
    "tau = simul_no_influence(n2, c2, n1, c1)\n",
    "print(\"Measured tau (with order 2,1): \", tau)\n",
    "\n",
    "# Verify the law\n",
    "print(\"Matheus law: \", 1/(1/tau_1 + 1/tau_2))"
   ]
  },
  {
   "cell_type": "markdown",
   "metadata": {},
   "source": [
    "### What if a particle can scatter just one time?\n",
    "In this case, we **remove** the particle from the simulation **after the scattering**.\n",
    "\n",
    "**Note that**: In this second case, the scattering event influences the particle motion. In this case, in order to measure $\\tau_1$ and $\\tau_2$ showing up in the law, you have to **shut down** one of the two mechanisms, by putting one of the two cross sections to a negative value!\n",
    "You cannot measure them simply by using two different counters!!!"
   ]
  },
  {
   "cell_type": "code",
   "execution_count": 228,
   "metadata": {},
   "outputs": [],
   "source": [
    "def simul_remove(n1, c1, n2, c2):\n",
    "    ### The same simulation done before BUT NOW a particle can scatter ONLY ONE time,\n",
    "    ### then it is REMOVED from the experiment\n",
    "\n",
    "    # Number of scattering targets of each type\n",
    "    N1 = int(n1*X*Y)\n",
    "    N2 = int(n2*X*Y)\n",
    "    print(N1,N2)\n",
    "    # Locate scattering targets\n",
    "    x_t1 = np.random.randint(0,X,N1)\n",
    "    y_t1 = np.random.rand(N1)*Y\n",
    "    x_t2 = np.random.randint(0,X,N2)\n",
    "    y_t2 = np.random.rand(N2)*Y\n",
    "\n",
    "    # Locate initial particles uniformly distributed at x = 0\n",
    "    x = 0   # Particles move all togheter\n",
    "    y = np.random.rand(N)*Y\n",
    "\n",
    "    # Scattering counter\n",
    "    cont = 0\n",
    "    alives = N  # Number of UNscattered particles (decreases in time...)\n",
    "    while x < X and alives > 0:\n",
    "        x = x + 1\n",
    "        ## Check for scattering\n",
    "        for i in range(0, N):\n",
    "            for j in range(0,N2):\n",
    "                if np.abs(y[i] - y_t2[j]) < c2/2 and x == x_t2[j]:\n",
    "                    cont = cont + 1\n",
    "                    y[i] = Y + 10*(c1+c2)    # remove particle from experiment\n",
    "                    alives = alives - 1\n",
    "            for j in range(0,N1):\n",
    "                if np.abs(y[i] - y_t1[j]) < c1/2 and x == x_t1[j]:\n",
    "                    cont = cont + 1\n",
    "                    y[i] = Y + 10*(c1+c2)    # remove particle from experiment\n",
    "                    alives = alives - 1\n",
    "\n",
    "    ## MEASURED average scattering times (per particle)\n",
    "    tau = (X/cont)/N\n",
    "    print(\"Fraction of scattered particles: \", (N-alives)/N*100, \"%\")\n",
    "    return tau"
   ]
  },
  {
   "cell_type": "markdown",
   "metadata": {},
   "source": [
    "**Attention**: In this second case, we need to choose such parameters that the balls of radius = to the scattering section, settled in the positions of the targets, do not overlap. Otherwise the measured tau will depend on the order that the two scattering mechanisms appear **in the code**, which makes no physical sense!\n",
    "\n",
    "Then we need the number of scattered particles to be _small_ respect to the incident particles number. Otherwise the average scattering time will depend on time!\n",
    "So we need the fraction of scattered particles to be small!\n",
    "\n",
    "This two conditions are constrain on the densities, but we need to change even the other parameteres in order to have a number of scatters that is at least of the order of 10 (and not 1)."
   ]
  },
  {
   "cell_type": "code",
   "execution_count": 232,
   "metadata": {},
   "outputs": [],
   "source": [
    "X = 10  # Lenght (in units of discrete steps of the incident particle) of the sample\n",
    "Y = 20000  # Height of the sample\n",
    "N = 20000   # Number of incident particles simultaneously generated at the beginning of each cycle time at x = 0"
   ]
  },
  {
   "cell_type": "code",
   "execution_count": 234,
   "metadata": {},
   "outputs": [
    {
     "name": "stdout",
     "output_type": "stream",
     "text": [
      "100 100\n",
      "Fraction of scattered particles:  0.335 %\n",
      "tau_1:  7.4626865671641785e-06\n",
      "100 100\n",
      "Fraction of scattered particles:  0.28500000000000003 %\n",
      "tau_2:  8.771929824561403e-06\n",
      "100 100\n",
      "Fraction of scattered particles:  0.49 %\n",
      "Measured tau (with order 1,2):  5.102040816326531e-06\n",
      "100 100\n",
      "Fraction of scattered particles:  0.61 %\n",
      "Measured tau (with order 2,1):  4.098360655737704e-06\n",
      "Matheus law:  4.032258064516129e-06\n"
     ]
    }
   ],
   "source": [
    "### Measure \\tau_1, \\tau_2 (appearing in the law) by shutting down one scattering mechanism at a time\n",
    "\n",
    "# Targets' densities\n",
    "n1 = 0.0005\n",
    "n2 = 0.0005\n",
    "\n",
    "## \\tau_1\n",
    "c1 = 0.75\n",
    "c2 = - 0.5  # Negative = Shutted down !!!\n",
    "tau_1 = simul_remove(n1, c1, n2, c2)\n",
    "print(\"tau_1: \", tau_1)\n",
    "## \\tau_2\n",
    "c1 = - 0.75  # Negative = Shutted down !!!\n",
    "c2 = 0.5\n",
    "tau_2 = simul_remove(n1, c1, n2, c2)\n",
    "print(\"tau_2: \", tau_2)\n",
    "\n",
    "### Measure tau in presence of both scattering mechanisms\n",
    "c1 = 0.75\n",
    "c2 = 0.5\n",
    "# Note: the measured tau MUST be independent on the order with which the two scattering mechanisms appear in the code!\n",
    "tau = simul_remove(n1, c1, n2, c2)\n",
    "print(\"Measured tau (with order 1,2): \", tau)\n",
    "tau = simul_remove(n2, c2, n1, c1)\n",
    "print(\"Measured tau (with order 2,1): \", tau)\n",
    "\n",
    "# Verify the law\n",
    "print(\"Matheus law: \", 1/(1/tau_1 + 1/tau_2))"
   ]
  },
  {
   "cell_type": "markdown",
   "metadata": {},
   "source": [
    "# Conclusion / Results\n",
    "At least we can verify that it works for two cases:\n",
    "- if $\\tau_1$ and $\\tau_2$ differ by more than an order of magnitude (and so the cross sections, if the (number) density is the same), the smallest dominates.\n",
    "- if they are equal, $\\tau$ is simply the half.\n",
    "\n",
    "But this is not a big deal, since those two cases can be threated intuitively.\n",
    "\n",
    "\n",
    "It would be good to verify the law if, for example, $\\tau_2 = \\frac32\\tau_1$, then $\\tau = \\frac35 \\tau_1$.\n",
    "But I can't do that with this code, due to the **uncontrolled fluctuation** of the measure of $\\tau$ between an experiment and the next one.\n",
    "\n",
    "Those **fluctuations are described by** the **difference between the extimates of $\\tau$** you get running the code by considering the two mechanisms **in reverse order**.\n",
    "Those two quantities are different **not because of overlap** between targets (their density is too low) **but because** the extimates **fluctuates a lot** when repeating the experiment.\n",
    "\n",
    "You can suppress those fluctuations by increasing N and Y, due to the fact that the average scattering time (per particle) is calculated by dividing the number of occurrences by N and so \"_it's like an average_\", so it obeys central limit theorem. But you don't know how much increasing it!\n",
    "\n",
    "### In order to verify the law, you should take care of those fluctuations, that is something I don't do here!"
   ]
  },
  {
   "cell_type": "markdown",
   "metadata": {},
   "source": [
    "# Try to extimate of fluctuations (WIP)\n",
    "Consider _only one_ scattering mechanism.\n",
    "\n",
    "The incident particles are uniformly ditsributed along y and a particle with a certain y = y0 coordinate will scatter if it exists _al least one_ target with a y coordinate around y0, _independently on the target x coordinate_.\n",
    "\n",
    "So we can extimate the number of scattered particles in this way:"
   ]
  },
  {
   "cell_type": "code",
   "execution_count": 279,
   "metadata": {},
   "outputs": [],
   "source": [
    "def extimate_cont(N, Nt, c_Y):\n",
    "    y_t = np.random.rand(Nt)\n",
    "    y = np.random.rand(N)\n",
    "\n",
    "    cont = 0\n",
    "    for i in range(0, N):\n",
    "        for j in range(0, Nt):\n",
    "            if y[i] > (y_t[j] - c_Y/2) and y[i] < (y_t[j] + c_Y/2):\n",
    "                cont = cont + 1\n",
    "\n",
    "    return cont\n",
    "    #print(\"1/cont: \", 1/cont);\n",
    "\n",
    "def statistics_cont(N, Nt, c_Y, num):\n",
    "    conts = np.zeros(num)\n",
    "    for i in range(0, num):\n",
    "        conts[i] = extimate_cont(N, Nt, c_Y)\n",
    "    print(\"1/cont: \", np.mean(1/conts), \" +- \", np.std(1/conts))\n",
    "    print(\"Relative fluctuation of 1/cont: \", np.std(1/conts)/np.mean(1/conts)*100, \"%\")"
   ]
  },
  {
   "cell_type": "code",
   "execution_count": 282,
   "metadata": {},
   "outputs": [
    {
     "name": "stdout",
     "output_type": "stream",
     "text": [
      "c/Y =  0.2\n",
      "1/cont:  0.00527133322840036  +-  0.0004059991474167749\n",
      "Relative fluctuation of 1/cont:  7.702020149843183 %\n",
      "c/Y =  0.2\n",
      "1/cont:  0.0005279728710164733  +-  2.3942254453940027e-05\n",
      "Relative fluctuation of 1/cont:  4.534750887454784 %\n",
      "c/Y =  0.2\n",
      "1/cont:  5.27856426258772e-05  +-  2.1541348244053175e-06\n",
      "Relative fluctuation of 1/cont:  4.080910484831897 %\n"
     ]
    }
   ],
   "source": [
    "N = int(1e2)    # Incident particles\n",
    "Nt = int(1e1)   # Targets\n",
    "c_Y = 0.2    # c/Y\n",
    "#Y = 10\n",
    "\n",
    "num = int(1e3)\n",
    "\n",
    "for N in np.array([int(1e2), int(1e3), int(1e4)]):\n",
    "    print(\"c/Y = \", c_Y)\n",
    "    statistics_cont(N, Nt, c_Y, num)"
   ]
  },
  {
   "cell_type": "code",
   "execution_count": 252,
   "metadata": {},
   "outputs": [
    {
     "data": {
      "text/plain": [
       "(array([ 1.,  6., 16., 10., 19., 17., 14., 12.,  3.,  2.]),\n",
       " array([34. , 37.1, 40.2, 43.3, 46.4, 49.5, 52.6, 55.7, 58.8, 61.9, 65. ]),\n",
       " <BarContainer object of 10 artists>)"
      ]
     },
     "execution_count": 252,
     "metadata": {},
     "output_type": "execute_result"
    },
    {
     "data": {
      "image/png": "[encoded data removed]",
      "text/plain": [
       "<Figure size 640x480 with 1 Axes>"
      ]
     },
     "metadata": {},
     "output_type": "display_data"
    }
   ],
   "source": [
    "import matplotlib.pyplot as plt\n",
    "plt.hist(conts)"
   ]
  },
  {
   "cell_type": "code",
   "execution_count": null,
   "metadata": {},
   "outputs": [],
   "source": []
  }
 ],
 "metadata": {
  "kernelspec": {
   "display_name": "Python 3",
   "language": "python",
   "name": "python3"
  },
  "language_info": {
   "codemirror_mode": {
    "name": "ipython",
    "version": 3
   },
   "file_extension": ".py",
   "mimetype": "text/x-python",
   "name": "python",
   "nbconvert_exporter": "python",
   "pygments_lexer": "ipython3",
   "version": "3.10.12"
  }
 },
 "nbformat": 4,
 "nbformat_minor": 2
}

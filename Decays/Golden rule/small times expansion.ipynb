{
 "cells": [
  {
   "cell_type": "markdown",
   "metadata": {},
   "source": [
    "# Introduction to Dyson serie and usage\n",
    "The time evolution operator in the _interaction picture_ $U_I(t)$ (sometimes indicated as the operator $S$ called _scattering matrix_) can be expressed as the _Dyson Serie_.\n",
    "\n",
    "$$U_I(t) = 1 - \\frac{i}{\\hbar}\\int_0^tdt'V_I(t') + (\\frac{-i^2}{\\hbar})^2\\int_0^tdt'\\int_0^{t'}dt'' V_I(t'') + ...$$\n",
    "where $V_I(t)$ is the interaction term in the _interaction picture_.\n",
    "\n",
    "## Why Dyson serie is relevant?\n",
    "From this consideration, follows that the matrix elements $\\bra{n}U_I(t)\\ket{m}$ (where $\\ket{n}, \\ket{m}$ are two eigenstates of the unperturbed hamiltonian $H_0$) can be expressed as the _infinite sum_:\n",
    "$$\\bra{n}U_I(t)\\ket{m} = c_{n,m}^{(0)}(t) + c_{n,m}^{(1)}(t) + c_{n,m}^{(2)}(t) + ...$$\n",
    "where the coefficients of the sum are\n",
    "$$c_{n,m}^{(0)}(t) = \\delta_{n,m}$$\n",
    "$$c_{n,m}^{(1)}(t) = -\\frac{i}{\\hbar}\\int_0^tdt'e^{\\frac{i}{\\hbar}(E_n-E_m)t'}V_{n,m}(t')$$\n",
    "$$c_{n,m}^{(0)}(t) = (-\\frac{i}{\\hbar})^2\\sum_l\\int_0^tdt'\\int_0^{t'}dt''e^{\\frac{i}{\\hbar}(E_n-E_l)t'}e^{\\frac{i}{\\hbar}(E_l-E_m)t''}V_{n,l}(t')V_{l,m}(t'')$$\n",
    "and $V_{n,l}(t) = \\bra{n}V(t)\\ket{l}$, where $V$ is the interaction term in the _Shrodinger picture_.\n",
    "\n",
    "### Time evolution of a state\n",
    "$\\ket{\\Psi(t)}_S = \\sum_n c_n(t)e^{-\\frac{i}{\\hbar}E_nt}\\ket{n}$, so\n",
    "$$c_n(t) = e^{\\frac{i}{\\hbar}E_nt}\\bra{n}U(t)\\ket{\\Psi(0)}_S = \\sum_m \\bra{n}U\\ket{m}\\bra{m}\\ket{\\Psi(0)}_S = \\sum_m \\bra{n}U\\ket{m}c_m(0)$$\n",
    "and $\\bra{n}U(t)\\ket{m} = \\bra{n}U_I(t)\\ket{m}$, so this is the reason why we are interested in this matrix elements.\n",
    "\n",
    "# Partial (truncated) Dyson serie as a \"Low t expansion\"\n",
    "Let's try to expand the coefficients $c_{n,m}^{(1)}(t) + c_{n,m}^{(2)}(t)$ for small values of $t$.\n",
    "\n",
    "In order to do that, we observe that the simplest way of approximating an integral over a small time interval $[0, \\Delta t]$ is with the area of a rectangule. Explicitly\n",
    "$$\\int_0^{\\Delta t}dt'f(t') = f(0)\\Delta t + o(\\Delta t)$$\n",
    "As a consequence,\n",
    "$$c_{n,m}^{(1)}(t) = -\\frac{i}{\\hbar}\\int_0^tdt'e^{\\frac{i}{\\hbar}(E_n-E_m)t'}V_{n,m}(t') = -\\frac{i}{\\hbar}V_{n,m}(t) + o(t)$$\n",
    "as we are considering a small $t$. Analogously\n",
    "$$c_{n,m}^{(2)}(t) = \\sum_l(-\\frac{i}{\\hbar})^2\\int_0^tdt'\\int_0^{t'}dt''e^{\\frac{i}{\\hbar}(E_n-E_l)t'}e^{\\frac{i}{\\hbar}(E_l-E_m)t''}V_{n,l}(t')V_{l,m}(t'') = \\sum_l(-\\frac{i}{\\hbar})^2\\int_0^tdt'e^{\\frac{i}{\\hbar}(E_n-E_l)t'}V_{n,l}(t')(V_{l,m}(t')t' + o(t')) = (-\\frac{i}{\\hbar})^2\\sum_l V_{n,l}(t)V_{l,m}(t)\\frac{t^2}{2} + o(t^2)$$\n",
    "\n",
    "so we can see that each \"_Dyson coefficient_\", for small t, behaves as $$c^{(p)}_{n,m} \\sim t^p$$\n",
    "\n",
    "As for small values of $t$ the \"_Dyson expansion_\" of $c(t)$ is an expansion in powers of $t$, we can say that this expansion can be adopted for larger times if we consider higher orders coefficients in the sum.\n",
    "\n",
    "# Conclusion\n",
    "Including more orders in the truncated Dyson serie, makes the approximation better for larger times $t$.\n",
    "And, as the _Golden rule_ is found truncating the Dyson serie at the first order, it is a _small times_ approximation for scattering rates (See the notes on the \"General Golden rule\").\n",
    "\n",
    "**Appreciate that**: When you write the Dyson sum, there's no hint _a priori_ for coming to this relult. But there are other approaches to find the Golden rule that make a _small t assumption_ (see \"primer\"), so this gave me an hint."
   ]
  },
  {
   "cell_type": "markdown",
   "metadata": {},
   "source": []
  }
 ],
 "metadata": {
  "language_info": {
   "name": "python"
  }
 },
 "nbformat": 4,
 "nbformat_minor": 2
}

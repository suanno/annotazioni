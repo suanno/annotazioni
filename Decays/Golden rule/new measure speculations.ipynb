{
 "cells": [
  {
   "cell_type": "markdown",
   "metadata": {},
   "source": [
    "# Ragioni stimolanti la speculazione\n",
    "La **regola d'oro di Fermi** permette di calcolare i coefficienti $c_n(t)$, che forniscono la probabilità di collassare sull'autostato $\\ket{n}$ **se si misura l'energia** del sistema al tempo t.\n",
    "La formula alla quale facciamo riferimento (che chiamiamo \"regola d'oro\") è\n",
    "$$\\Gamma_{n\\rightarrow m} = \\frac{2\\pi}{\\hbar}|V_{n,m}|^2\\delta(E_n-E_m\\pm\\hbar\\omega),$$\n",
    "dove $\\Gamma_{n\\rightarrow m}$ è il _rate di transizione_ per unità di tempo dallo stato $\\ket{n}$ allo stato $\\ket{m}$, che **esplicitamente significa**\n",
    "$$\\text{Se il sistema si trova nello stato $\\ket{n}$ al tempo $t=0$, allora se misuraro l'energia al tempo $t$: ho una probabilità di trovare il sistema nello stato $\\ket{m}$ pari a $\\Gamma t$}$$\n",
    "Questa formula **vale in queste ipotesi**:\n",
    "-   - Gli stati $\\ket{n}, \\ket{m}$ sono **autostati dell'energia** (si noti che la delta non è ben definita se uno dei due stati non ha energia definita. Guardare \"general golden rule\")\n",
    "-   - Il tempo **t** che trascorre da quando il sistema è nello stato $\\ket{n}$ a quando misuro l'energia **è piccolo**.\n",
    "\n",
    "Siccome il risultato che il rate di transizione $\\Gamma$ sia indipendente dal tempo, **discende da questa formula**, allora ogni risultato della fisica che fa riferimento ad un rate di transizione costante è valido se quelle due ipotesi sono verificate!\n",
    "\n",
    "### Come si può salvare la fisica?\n",
    "Consideriamo un esempio e, cercando di salvarne i risultati, facciamo speculazioni su come funzioni il meccanismo di misura in meccanica quantistica.\n",
    "\n",
    "Consideriamo un qubit che interagisce con l'ambiente con un meccanismo di \"amplitude damping\".\n",
    "\n",
    "In questo meccanismo considero che lo stato del sistema _totale_ (qubit + enviroment) evolva in questo modo\n",
    "$$\\ket{1}\\ket{0}_E \\rightarrow \\sqrt{p}\\ket{0}\\ket{1}_E + \\sqrt{1-p}\\ket{1}\\ket{0}_E,$$\n",
    "$$\\ket{0}\\ket{1}_E \\rightarrow \\ket{0}\\ket{1}_E$$\n",
    "dove il coefficiente $p$ si può calcolare con la regola d'oro di fermi se trascorre un tempo **molto piccolo** da quando si **inizializza** il sistema nello stato $\\ket{1}\\ket{0}_E$ a quando si effettua una misura.\n",
    "\n",
    "Dunque, se la misura segue l'inizializzazione dopo un tempo $t$ **molto breve**, allora $p = \\Gamma t$. Come faccio a far emergere un \"decadimento esponenziale del qubit nel ground state\"?\n",
    "\n",
    "##### Speculazione\n",
    "Quel che **deve accadere** è che vengono realizzate **periodicamente misure** con un **periodo $T$ molto piccolo** (esplicittamente: piccolo come deve essere il tempo $t$ per poter usare la regola d'oro). In questo modo\n",
    "- Dopo ogni misura il sistema viene inizializzato in un autostato (si pensi che venga inizializzato sempre nel più probabile: $\\ket{1}\\ket{0}_E$)\n",
    "- Siccome\n",
    "    - Il sistema è inizializzato in un autostato,\n",
    "    - Il tempo tra l'inizializzazione e la misura è $T$, che è piccolo,\n",
    "    \n",
    "    allora si può utilizzare la regola d'oro per determinare se l'esito della misura è lo stato di ground, **ogni volta che si fa una misura**. Perché ogni volta che si fa, le ipotesi per usare la regola d'oro sono verificate. **Nota:** E' **cruciale** il fatto che la misura è periodica con un periodo piccolo per poter ricorrere alla formula.\n",
    "\n",
    "Quindi, se mi interrogo su quale sia la probabilità che il sistema **dopo un tempo LUNGO** $\\tilde{t}$ _non sia ancora_ (quando vi collassa ci resta per sempre perché non evolve lo stato di ground) nello stato di ground ($\\ket{0}\\ket{1}_E$) **ASSUMENDO che venga svolta una misura periodica con un periodo piccolo t**:\n",
    "\n",
    "$$\\text{Prob($\\tilde{t})$} = (1-p)^n = (1 - \\Gamma T)^n$$\n",
    "con $n = \\frac{\\tilde{t}}{T}$, allora\n",
    "$$\\text{Prob($\\tilde{t})$} = (1 - \\Gamma \\frac{t}{n})^n \\rightarrow e^{-\\Gamma t}$$\n",
    "\n",
    "### Osservazione\n",
    "Per elevare $(1-p)^n$ è **necessario** che sussista un meccanismo di **prove ripetute** dove la prova successiva parte con il sistema inizializzato **sempre nello stesso stato**! Quindi un meccanismo di misure periodiche.\n",
    "\n",
    "Se venisse effettuata una sola misura e non tante misure ripeture, i coefficienti $c_n(\\tilde{t})$ non potrebbero essere calcolati con la regola d'oro, perché $\\tilde{t}$ non è piccolo\n",
    "\n",
    "\n",
    "### Perché la mera presenza dei fotoni esegue una periodica **misura quantistica** dell'energia?\n",
    "..."
   ]
  },
  {
   "cell_type": "markdown",
   "metadata": {},
   "source": []
  }
 ],
 "metadata": {
  "kernelspec": {
   "display_name": "Python 3",
   "language": "python",
   "name": "python3"
  },
  "language_info": {
   "name": "python",
   "version": "3.10.12"
  }
 },
 "nbformat": 4,
 "nbformat_minor": 2
}

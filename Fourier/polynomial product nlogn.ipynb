{
 "cells": [
  {
   "cell_type": "markdown",
   "metadata": {},
   "source": [
    "# Problema\n",
    "Dati due polinomi di grado $n$\n",
    "$$f(x)=a_0x^0+a_1x^1+...+a_nx^n;    g(x)=b_0x^0+b_1x^1+...+b_nx^n;$$\n",
    "si vogliono computare i coefficienti ${c_i}$ del loro prodotto\n",
    "$$h(x)=f(x)g(x) = c_0x^0+c_1x^1+...+c_nx^n+c_{n+1}x^{n+1}+...+c_{2n}x^{2n}$$\n",
    "NOTA: Il massimo grado del prodotto $h(x)$ è 2n.\n",
    "\n"
   ]
  },
  {
   "cell_type": "markdown",
   "metadata": {},
   "source": [
    "# Algoritmo naive $O(n^2)$\n",
    "Moltiplico i due polinomi distribuendo il prodotto, così:\n",
    "$$c_0 = a_0b_0; c_1 = a_1b_0 + a_0b_1; c_2 = a_2b_0 + a_1b_1 + a_0b_2; ...; c_{2n} = a_nb_n$$\n",
    "Siccome tutte le possibili coppie di coefficienti $\\{a_i, b_j\\}$, e quindi il numero di prodotti _diversi_ da fare $a_ib_j$ per calcolare i $c_n$ è $n*n=n^2$, allora l'algoritmo è\n",
    "$$O(n^2)$$"
   ]
  },
  {
   "cell_type": "markdown",
   "metadata": {},
   "source": [
    "# Algoritmo con FFT $O(nlogn)$\n",
    "\n",
    "L'idea dell'algoritmo è quella di individuare i $2n+1$ coefficienti del polinomio prodotto $h(x) = f(x)g(x)$ mediante una **interpolazione**.\n",
    "Dopo aver valutato $f(x)$ e $g(x)$ in $2n+1$ punti e quindi il prodotto $h(x)$ in questi punti, è possibile ricavare tutti i coefficienti richiedendo che $h(x)$ passi per questi punti (il numero di punti è uguale al numero di coefficienti, quindi posso risolvere tutti i coefficienti).\n",
    "\n",
    "La sfida sta nel trovare un modo per realizzare questa interpolazione con un costo inferiore ad $n^2$.\n",
    "\n",
    "Come si ricavano i coefficienti $c_n$ mediante una interpolazione?\n",
    "\n",
    "Richiedendo che il polinomio passi per i $2n+1$ punti, otteniamo $2n+1$ equazioni:\n",
    "$$h(x_0) = y_0 = c_0x_0^0 + c_1x_0^1 + ... + c_{2n}x_0^{2n}$$\n",
    "$$h(x_1) = y_1 = c_0x_1^0 + c_1x_1^1 + ... + c_{2n}x_1^{2n}$$\n",
    "e così via... Si osservi che i coefficienti $c_n$ sono gli stessi in tutte le equazioni. Da una equazione alla successiva cambia solo il punto in cui viene richiesto il passaggio (x_0, y_0).\n",
    "\n",
    "La forma generale di queste equazioni è $y_k = c_n x_k^n = x_k^n c_n$, ovvero, in forma matriciale, $\\mathbf{y} = M\\mathbf{c}$, con $M_{kn} = x_k^n$.\n",
    "Quindi è possibile ricavare i coefficienti $c_n$ come $\\mathbf{c} = M^{-1}\\mathbf{y}$.\n",
    "\n",
    "Come è fatta la matrice ($2n+1$)-dimensionale M? $M_{kn} = x_k^n$, perciò se scegliamo i punti $x_k$ (la cui scelta è arbitraria, perché l'interpolazione è possibile qualsiasi sia la scelta dei $2n+1$ punti $x_k$, purché siano tutti diversi) come le radici ($2n+1$)-esime di 1 ($x_k$ è la k-esima radice), allora:\n",
    "$$M_{kn} = x_k^n = e^{i\\frac{2\\pi}{T}kt}$$\n",
    "e quindi la matrice M _risulta essere_ la matrice della DFT.\n",
    "\n",
    "Perciò posso calcolare il vettore dei coefficienti $\\mathbf{c}$, calcolando (i coefficienti del)la IDFT (inverse DFT) del vettore $\\mathbf{y}$.\n",
    "E siccome **esiste un modo efficiente** di calcolare la DFT, ovvero la **FFT**, calcolo la FFT di $\\mathbf{y} = h(\\mathbf{x})$, dove $\\mathbf{x}$ è il vettore delle radici ($2n+1$)-esime di 1.\n",
    "\n",
    "Si osservi che si considerano proprio le radici ($2n+1$)-esime di 1, perché lamatrice M è ($2n+1$)-dimensionale e **solo in questo modo** ottengo la matrice da applicare ad un vettore ($2n+1$)-dimensionale per farne la DFT.\n",
    "\n",
    "## Algoritmo\n",
    "- Valuto $f(x), g(x)$ nelle radici ($2n+1$)-esime di 1. Quindi calcolo $h(x) = f(x)g(x)$ in questi ($2n+1$) punti, che chiamo $\\mathbf{y}$.\n",
    "- Calcolo la IFFT di $\\mathbf{y}$, ottenendo i coefficienti del polinomio $h(x)$.\n",
    "\n",
    "Il primo step ha complessità $O(n)$, mentre il secondo $O(nlogn)$."
   ]
  }
 ],
 "metadata": {
  "language_info": {
   "name": "python"
  }
 },
 "nbformat": 4,
 "nbformat_minor": 2
}

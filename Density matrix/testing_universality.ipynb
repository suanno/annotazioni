{
 "cells": [
  {
   "cell_type": "markdown",
   "metadata": {},
   "source": [
    "# Bit flip interaction with enviroment\n",
    "If you consider as operators that describe the interaction of _bit flip_ with the enviroment\n",
    "$$E_0 = \\sqrt{p}\\mathcal{1}\\quad E_1 = \\sqrt{1-p}X$$\n",
    "Then the evolution of the density matrix of _the mere_ system (enviroment is factorized) is\n",
    "$$\\rho \\rightarrow p\\rho + (1-p)X\\rho X \\rightarrow p^2\\rho + (1-p)^2\\rho + 2p(1-p)X\\rho X$$\n",
    "and so, if we focus on a single non-diagonal entry of the matrix\n",
    "$$\\rho_{01}\\rightarrow \\rho_{01} + (1-p)\\rho_{10}\\rightarrow(p^2+(1-p)^2)\\rho_{01} + 2p(1-p)\\rho_{10}$$\n",
    "\n",
    "So, at least apparently, the entry $\\rho_{01}$ evolves in such a way that, at any future instant of time $t$, $\\rho_{01}(t)$ depends on the initial value of $\\rho_{10}$.\n",
    "So, **apparently**, the matrix entry **won't** evolve as $$\\rho_{01}\\rightarrow\\rho_{01}e^{-\\Gamma t}$$\n",
    "**In fact** we see that the off-diagonal entries, instead of going zero esponentially, go to a non-zero value exponentially."
   ]
  },
  {
   "cell_type": "code",
   "execution_count": 44,
   "metadata": {},
   "outputs": [
    {
     "name": "stdout",
     "output_type": "stream",
     "text": [
      "[[0.32534385 0.09808038]\n",
      " [0.56532003 0.67465615]]\n"
     ]
    },
    {
     "data": {
      "text/plain": [
       "[<matplotlib.lines.Line2D at 0x7f3111e66680>]"
      ]
     },
     "execution_count": 44,
     "metadata": {},
     "output_type": "execute_result"
    },
    {
     "data": {
      "image/png": "[encoded data removed]",
      "text/plain": [
       "<Figure size 640x480 with 1 Axes>"
      ]
     },
     "metadata": {},
     "output_type": "display_data"
    }
   ],
   "source": [
    "import numpy as np\n",
    "import matplotlib.pyplot as plt\n",
    "# First case\n",
    "p = 0.01\n",
    "T = int(1e3)\n",
    "E0 = np.sqrt(p)*np.eye(2)\n",
    "E1 = np.sqrt(1-p)*np.array([[0, 1], [1, 0]])    # sigmaX\n",
    "# RANDOM initial state (not necessary pure!)\n",
    "rho = np.random.rand(2,2)\n",
    "rho[0,0] = 1-rho[1,1]\n",
    "\n",
    "print(rho)\n",
    "\n",
    "hystory = np.zeros(T)\n",
    "for t in np.arange(0,T):\n",
    "    hystory[t] = rho[0,1]\n",
    "    #print(np.trace(rho))\n",
    "    rho = np.dot(np.dot(E0,rho),np.transpose(E0)) + np.dot(np.dot(E1,rho),np.transpose(E1))\n",
    "\n",
    "\n",
    "plt.plot(hystory)"
   ]
  },
  {
   "cell_type": "markdown",
   "metadata": {},
   "source": [
    "# Fix\n",
    "In order to have the exponential decays **to zero** of the off-diagonal entries, you need to consider that the system exchanges a photon with the enviroment when a bit flip occurs. It must be so, because the _composite system_ is isolated and so its energy is conserved."
   ]
  },
  {
   "cell_type": "markdown",
   "metadata": {},
   "source": [
    "## How to threat the two mechanisms both ON\n",
    "Here we show that the operators $E_k$ describing the **amplitude damping** are the same that descrive the bit-flip mechanism **if we take into account** that there is an exchange of a photon when a bit is flipped.\n",
    "\n",
    "We define the state of the system + enviroment as $\\ket{n_s,n_m} = \\ket{n_s}\\otimes\\ket{n_m}$, where\n",
    "- $\\ket{n_s}$ is the state of the two level system ($\\ket{0}$ is the ground state and $\\ket{1}$ the excited one).\n",
    "- $\\ket{n_e}$ is the state of the enviroment, that we consider to be \"1 photon\" $\\ket{1}$ or \"zero photons $\\ket{0}$.\n",
    "\n",
    "### Considering\n",
    "- Amplitude damping:\n",
    "\n",
    "$$\\ket{10}\\rightarrow \\sqrt{p_1}\\ket{01} + \\sqrt{1-p_1}\\ket{10}$$\n",
    "while if the two level system is already in the ground state, it remains there\n",
    "$$\\ket{01}\\rightarrow \\ket{01}$$\n",
    "$$\\ket{00}\\rightarrow\\ket{00}$$\n",
    "**Notice that**: We do not need to know how other states of the _composite system_ evolve due to this scattering mechanism, because of how the operators $E_k$ are defined.\n",
    "\n",
    "- Bit-flip:\n",
    "We consider that, when a bit flip occur, a photon is exchanged with the enviroment. This must be true, because the _composite system_ is isolated, so its energy is conserved.\n",
    "\n",
    "$$\\ket{10}\\rightarrow \\sqrt{p_2}\\ket{01} + \\sqrt{1-p_2}\\ket{10}$$\n",
    "$$\\ket{01}\\rightarrow \\sqrt{p_2}\\ket{10} + \\sqrt{1-p_2}\\ket{01}$$\n",
    "and, as a photon must be absorbed in order to see a bit flip\n",
    "$$\\ket{00}\\rightarrow\\ket{00}$$\n",
    "\n",
    "Even if the evolution of $\\ket{01}$ is different, as it is not involved in the definitions of operators $E_k$, those operators **are the same** of the amplitude damping!\n",
    "\n",
    "And so the evolution of the density matrix is the one someone calls \"Universal evolution of the density matrix\""
   ]
  }
 ],
 "metadata": {
  "kernelspec": {
   "display_name": "Python 3",
   "language": "python",
   "name": "python3"
  },
  "language_info": {
   "codemirror_mode": {
    "name": "ipython",
    "version": 3
   },
   "file_extension": ".py",
   "mimetype": "text/x-python",
   "name": "python",
   "nbconvert_exporter": "python",
   "pygments_lexer": "ipython3",
   "version": "3.10.12"
  }
 },
 "nbformat": 4,
 "nbformat_minor": 2
}

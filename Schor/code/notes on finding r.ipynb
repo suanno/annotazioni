{
 "cells": [
  {
   "cell_type": "markdown",
   "metadata": {},
   "source": [
    "# Ricerca del periodo di \"$a^x\\pmod N$\"\n",
    "\n",
    "Questa funzione ha un _codominio_ finito (di soli N elementi: $\\{0,1,2,...,N-1\\}$).\n",
    "\n",
    "Consideriamo cosa succede continuando a moltiplicare per $a$ il numero $1$ (l'unità).\n",
    "Ovvero consideriamo una traiettoria della mappa $a^t\\pmod N$, dove $t$ è il tempo (che è discreto). Quindi $t = 0$ all'inizio e poi $t=1,2,...$.\n",
    "Possono verificarsi due situazioni:\n",
    "\n",
    "- Ad un certo tempo $\\tau_2 > 0$ la traiettoria _ritorna_ su un punto già visitato al tempo $0 < \\tau_1 < \\tau_2$.\n",
    "Ovvero $$a^{\\tau_2}\\pmod N = a^{\\tau_1}\\pmod N$$\n",
    "Dall'istante $\\tau_2$ in poi (tolto l'_antiperiodo_), l'orbita è periodica con un periodo $T = \\tau_2 - \\tau_1$. \n",
    "Si noti che $T > 1$, altrimenti non si parla di orbita periodica, ma di _punto fisso_. Questa evenienza viene trattata nell'altro caso. \n",
    "- Ad un certo tempo $\\tau > 0$ la traiettoria raggiunge un _punto fisso_, ovvero\n",
    "$$a^t\\pmod N = a^{\\tau}\\pmod N   \\forall t > \\tau$$\n",
    "\n",
    "Uno di questi due scenari si manifesta per forza, perché i valori diversi che la mappa può assumere (e quindi i punti diversi che la traiettoria può visitare) sono finiti, perché sono solo N. Quindi, in **al più $N$ step**, l'orbita **ritorna** su un punto del codominio $\\{0,1,...,N-1\\}$ **già visitato** precedentemente.\n",
    "\n",
    "### Quando esiste \"$r > 0$\" ?\n",
    "Si definisce l'_ordine_ di $a$ ripetto ad $N$ quell'intero $r > 0$ per cui $$a^r\\pmod N = 1$$\n",
    "E' evidente come $r = 0$ risolva il problema ma, nell'algoritmo di Shor, siamo interessati ad più piccolo $r > 0$ che soddisfa l'identità.\n",
    "\n",
    "Si può far vedere che **il periodo** di $a^x \\pmod N$ **è** $r$, infatti\n",
    "$$a^{x+T} = a^xa^T = a^x \\pmod N$$\n",
    "è verificata solo se $a^r = 1 \\pmod N$. Quindi **$r$ è il periodo**, perciò lo posso calcolare determinando il periodo di $a^x \\pmod N$.\n",
    "\n",
    "**Tuttavia** questo argomento (\"r è il periodo della funzione\") è valido **solo se** $a^x \\pmod N \\neq 0$, altrimenti la relazione $a^xa^T = a^x \\pmod N$ è verificata per qualsiasi valore di $T$!!!\n",
    "\n",
    "Ed $a^x \\mod N = 0$ accade quando il sistema raggiunge il punto fisso $\\mathcal{0}$, infatti $(a*0) = 0$.\n",
    "Si può dimostrare (vedi in fondo) che se $a^x \\pmod N$ ha un punto fisso, allora questo è $\\mathcal{0}$.\n",
    "\n",
    "#### Riguardo all'esistenza dell'ordine r:\n",
    "- Se $a^t \\pmod N$ è un'orbita periodica (chiamo il periodo $T < N$), allora $r = T$. **Quindi r esiste ed è \\< N**.\n",
    "- Se, invece, $a^t \\pmod N$ è un'orbita che _raggiunge un punto fisso_, allora questo punto fisso è $\\mathcal{0}$ e **non ho un modo di calcolare $r$**.\n",
    "\n",
    "In particolare, se l'orbita raggiunge un punto fisso, allora significa che non ha mai raggiunto il punto $\\mathcal{1}$ ad un tempo $t > 0$.\n",
    "Altrimenti l'orbita sarebbe periodica, visto che $\\mathcal{1}$ non è un punto fisso (se l'orbita raggiunge un punto fisso, allora questo è $\\mathcal{0}$).\n",
    "\n",
    "Non raggiungere mai il punto 1 per $t > 0$ significa che non esiste un intero $r > 0$ tale che $a^r = 1 \\pmod N$.\n",
    "\n",
    "Quindi, se $a^t \\pmod N$ converge ad un punto fisso (e quindi a zero), allora **non esiste l'ordine $r$**.\n",
    "\n",
    "#### Per quali valori a,N la funzione raggiunge il punto fisso?\n",
    "Questo succede quando esiste un intero $l$ per cui $a^l = 0 \\pmod N$. Ovvero quando $N$ è divisibile per $a$."
   ]
  },
  {
   "cell_type": "markdown",
   "metadata": {},
   "source": [
    "### (Proof) Se esiste un punto fisso, allora questo è 0\n",
    "\n",
    "Se esiste un punto fisso, allora esiste un intero $l > 0$ tale che $a*a^l = a^l \\pmod N$. Ovvero, quando $t > l$, l'orbità _resta per sempre_ nel punto fisso.\n",
    "\n",
    "$$a^{l+1} = a^l \\pmod N \\implies a^{l+1} - a^l = MN$$\n",
    "per un opportuno intero $M$. Allora\n",
    "$$a^l(a-1) = MN$$\n",
    "Siccome $a^l$ ed $(a-1)$ sono interi, significa che $a^l(a-1)$ è divisibile per N.\n",
    "Ma questo succede solo se $a^l$ è divisibile per N, oppure $(a-1)$ è divisibile per N.\n",
    "\n",
    "Se (a-1) è divisibile per $N$, allora $(a-1) = 0 \\pmod N$. \n",
    "**Ma** Se scelgo $1 < a < N$ (ed ha senso farlo, perché $a = 1$ non è interessante visto che $1^x = 1$ sempre), allora $(a-1) = 0 \\pmod N$ è falso sempre. Quindi, in ogni caso, $$a^l = 0 \\pmod N$$\n",
    "\n",
    "Ma questo significa che, per $t > l$, l'orbita resta per sempre in $\\mathcal{0}$ e quindi che $\\mathcal{0}$ è il punto fisso."
   ]
  },
  {
   "cell_type": "markdown",
   "metadata": {},
   "source": []
  }
 ],
 "metadata": {
  "language_info": {
   "name": "python"
  }
 },
 "nbformat": 4,
 "nbformat_minor": 2
}
